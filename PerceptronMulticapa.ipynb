{
  "nbformat": 4,
  "nbformat_minor": 0,
  "metadata": {
    "colab": {
      "name": "PerceptronMulticapa",
      "provenance": [],
      "collapsed_sections": [],
      "toc_visible": true
    },
    "kernelspec": {
      "name": "python3",
      "display_name": "Python 3"
    }
  },
  "cells": [
    {
      "cell_type": "markdown",
      "metadata": {
        "id": "--xrcBHIoRZb",
        "colab_type": "text"
      },
      "source": [
        "# Carga de librerías\n",
        "\n",
        "Cargamos las librerías numpy, matplotlib y sklearn."
      ]
    },
    {
      "cell_type": "code",
      "metadata": {
        "id": "SnTdK43kmLOg",
        "colab_type": "code",
        "colab": {}
      },
      "source": [
        "import numpy as np\n",
        "import matplotlib.pyplot as plt\n",
        "from sklearn import datasets\n",
        "from sklearn.model_selection import train_test_split\n",
        "from sklearn.linear_model import Perceptron\n",
        "from sklearn.neural_network import MLPClassifier\n",
        "from sklearn.metrics import log_loss, accuracy_score, classification_report, confusion_matrix\n",
        "from sklearn.metrics import roc_curve\n",
        "from sklearn.metrics import roc_auc_score\n",
        "from datetime import datetime"
      ],
      "execution_count": 0,
      "outputs": []
    },
    {
      "cell_type": "markdown",
      "metadata": {
        "id": "flYcX48WocQ9",
        "colab_type": "text"
      },
      "source": [
        "# Carga de datos\n",
        "\n",
        "Cargamos los datos eliminando las columnas de Clouds 9am y 3pm, Sunshine y Evaporation ya que no las considerabamos relevantes. Además nos saltamos las 2\n",
        "primeras columnas ya que eran no númericas."
      ]
    },
    {
      "cell_type": "code",
      "metadata": {
        "id": "okI4GKduKavE",
        "colab_type": "code",
        "outputId": "f6a63196-54c3-4633-d915-542394b5fb48",
        "colab": {
          "base_uri": "https://localhost:8080/",
          "height": 370
        }
      },
      "source": [
        "filename = 'weatherAUS.csv'\n",
        "\n",
        "data = np.loadtxt(filename, dtype=float, delimiter=',', skiprows=1, usecols=(2,3,4,5,6,7,8,9,10,11))\n",
        "#print(data)\n",
        "#for i in range(20):\n",
        " # for j in range(10):\n",
        "  #  data[i][j]\n",
        "print(\"MinTemp\\t\\tMaxTemp\\t\\twindDir\\t\\tWindGustSpeed\\tWindSpeed3pm\\tHumidity3pm\\tPressure3pm\\tTemp3pm\\t\\tRainToday\\tRainTomorrow\\t\")\n",
        "for i in range(20):\n",
        "  for j in range(len(data[i])):\n",
        "    print(data[i][j], end='\\t\\t')\n",
        "  print()\n"
      ],
      "execution_count": 0,
      "outputs": [
        {
          "output_type": "stream",
          "text": [
            "MinTemp\t\tMaxTemp\t\twindDir\t\tWindGustSpeed\tWindSpeed3pm\tHumidity3pm\tPressure3pm\tTemp3pm\t\tRainToday\tRainTomorrow\t\n",
            "13.4\t\t22.9\t\t3.0\t\t44.0\t\t24.0\t\t22.0\t\t1007.1\t\t21.8\t\t0.0\t\t0.0\t\t\n",
            "7.4\t\t25.1\t\t6.0\t\t44.0\t\t22.0\t\t25.0\t\t1007.8\t\t24.3\t\t0.0\t\t0.0\t\t\n",
            "12.9\t\t25.7\t\t8.0\t\t46.0\t\t26.0\t\t30.0\t\t1008.7\t\t23.2\t\t0.0\t\t0.0\t\t\n",
            "9.2\t\t28.0\t\t5.0\t\t24.0\t\t9.0\t\t16.0\t\t1012.8\t\t26.5\t\t0.0\t\t0.0\t\t\n",
            "17.5\t\t32.3\t\t3.0\t\t41.0\t\t20.0\t\t33.0\t\t1006.0\t\t29.7\t\t0.0\t\t0.0\t\t\n",
            "14.6\t\t29.7\t\t6.0\t\t56.0\t\t24.0\t\t23.0\t\t1005.4\t\t28.9\t\t0.0\t\t0.0\t\t\n",
            "14.3\t\t25.0\t\t3.0\t\t50.0\t\t24.0\t\t19.0\t\t1008.2\t\t24.6\t\t0.0\t\t0.0\t\t\n",
            "7.7\t\t26.7\t\t3.0\t\t35.0\t\t17.0\t\t19.0\t\t1010.1\t\t25.5\t\t0.0\t\t0.0\t\t\n",
            "9.7\t\t31.9\t\t6.0\t\t80.0\t\t28.0\t\t9.0\t\t1003.6\t\t30.2\t\t0.0\t\t1.0\t\t\n",
            "13.1\t\t30.1\t\t3.0\t\t28.0\t\t11.0\t\t27.0\t\t1005.7\t\t28.2\t\t1.0\t\t0.0\t\t\n",
            "13.4\t\t30.4\t\t1.0\t\t30.0\t\t6.0\t\t22.0\t\t1008.7\t\t28.8\t\t0.0\t\t1.0\t\t\n",
            "15.9\t\t21.7\t\t5.0\t\t31.0\t\t13.0\t\t91.0\t\t1004.2\t\t17.0\t\t1.0\t\t1.0\t\t\n",
            "15.9\t\t18.6\t\t3.0\t\t61.0\t\t28.0\t\t93.0\t\t993.0\t\t15.8\t\t1.0\t\t1.0\t\t\n",
            "12.6\t\t21.0\t\t8.0\t\t44.0\t\t20.0\t\t43.0\t\t1001.8\t\t19.8\t\t1.0\t\t0.0\t\t\n",
            "14.1\t\t20.9\t\t5.0\t\t22.0\t\t9.0\t\t82.0\t\t1010.4\t\t18.1\t\t0.0\t\t1.0\t\t\n",
            "13.5\t\t22.9\t\t3.0\t\t63.0\t\t20.0\t\t65.0\t\t1002.2\t\t21.5\t\t1.0\t\t1.0\t\t\n",
            "11.2\t\t22.5\t\t7.0\t\t43.0\t\t17.0\t\t32.0\t\t1009.7\t\t21.0\t\t1.0\t\t0.0\t\t\n",
            "9.8\t\t25.6\t\t7.0\t\t26.0\t\t6.0\t\t26.0\t\t1017.1\t\t23.2\t\t0.0\t\t0.0\t\t\n",
            "11.5\t\t29.3\t\t2.0\t\t24.0\t\t9.0\t\t28.0\t\t1014.8\t\t27.3\t\t0.0\t\t0.0\t\t\n",
            "17.1\t\t33.0\t\t5.0\t\t43.0\t\t22.0\t\t28.0\t\t1008.1\t\t31.6\t\t0.0\t\t0.0\t\t\n"
          ],
          "name": "stdout"
        }
      ]
    },
    {
      "cell_type": "markdown",
      "metadata": {
        "id": "70BLZWQaPlxQ",
        "colab_type": "text"
      },
      "source": [
        "# Preprocesado de datos\n",
        "\n",
        "Se realiza una partición de los datos, reservando el 50% de los datos del primer conjunto para entrenamiento, el otro 50% para validación y todos los datos cargados del segundo conjunto para test. \n",
        "Las entradas (input) contiene todas las columnas excepto la última ya que esta es la que predice si llueve al dia siguiente.\n",
        "El target contiene la última columna que indica si llovió."
      ]
    },
    {
      "cell_type": "code",
      "metadata": {
        "id": "_Ryra5OS_T1c",
        "colab_type": "code",
        "outputId": "ea6d30d6-dde6-4b68-df19-71c8840a8f2d",
        "colab": {
          "base_uri": "https://localhost:8080/",
          "height": 118
        }
      },
      "source": [
        "train_size = 0.5\n",
        "test_size = 1 - train_size\n",
        "#input tiene todas las columnas menos la última que es la que predice si llueve\n",
        "patterns_input = data[:,:-1]\n",
        "#target tiene solamente la columna de si llovió\n",
        "patterns_target = data[:, -1]\n",
        "input_train, input_valid, target_train, target_valid = train_test_split(patterns_input, patterns_target, train_size=train_size, test_size=test_size, random_state=0, shuffle=True)\n",
        "print(\"<Conjunto_Input_Entrenamiento>.shape = \",input_train.shape)\n",
        "print(\"<Conjunto_ValidaciónOutput_Entrenamiento>.shape = \",target_train.shape)\n",
        "\n",
        "input_test, input_valid, target_test, target_valid = train_test_split(input_valid, target_valid, train_size=train_size,test_size=test_size, random_state=0, shuffle=True)\n",
        "\n",
        "print(\"<Conjunto_Input_Validación>.shape = \",input_valid.shape)\n",
        "print(\"<Conjunto_ValidaciónOutput_Validación>.shape = \",target_valid.shape)\n",
        "print(\"<Conjunto_Input_Test>.shape = \",input_test.shape)\n",
        "print(\"<Conjunto_ValidaciónOutput_Test>.shape = \",target_test.shape)"
      ],
      "execution_count": 0,
      "outputs": [
        {
          "output_type": "stream",
          "text": [
            "<Conjunto_Input_Entrenamiento>.shape =  (59975, 9)\n",
            "<Conjunto_ValidaciónOutput_Entrenamiento>.shape =  (59975,)\n",
            "<Conjunto_Input_Validación>.shape =  (29988, 9)\n",
            "<Conjunto_ValidaciónOutput_Validación>.shape =  (29988,)\n",
            "<Conjunto_Input_Test>.shape =  (29987, 9)\n",
            "<Conjunto_ValidaciónOutput_Test>.shape =  (29987,)\n"
          ],
          "name": "stdout"
        }
      ]
    },
    {
      "cell_type": "markdown",
      "metadata": {
        "id": "mj_vHtC0Qjw7",
        "colab_type": "text"
      },
      "source": [
        "# Perceptor Simple\n",
        "\n",
        "Entrenamos el modelo del Perceptrón Simple con 120 iteraciones, que nos dará la medida de hasta que punto el problema es separable linelamente.\n",
        "La precisión del conjunto de entrenamiento es del 83.051% y el conjunto de validación es del 83.507%"
      ]
    },
    {
      "cell_type": "code",
      "metadata": {
        "id": "YlWmJRx80Es7",
        "colab_type": "code",
        "outputId": "23dfe3b3-0006-4854-bc74-18fe91935307",
        "colab": {
          "base_uri": "https://localhost:8080/",
          "height": 470
        }
      },
      "source": [
        "#Resultados perceptor simple\n",
        "max_iter = 120\n",
        "per = Perceptron(max_iter=max_iter, shuffle=False, random_state=0, verbose=True)\n",
        "per.fit(input_train, target_train)\n",
        "predict_train = per.predict(input_train)\n",
        "predict_valid = per.predict(input_valid)\n",
        "print(\"Train accuracy: %.3f%%\" % (accuracy_score(target_train, predict_train) * 100))\n",
        "print(\"Valid accuracy: %.3f%%\" % (accuracy_score(target_valid, predict_valid) * 100))"
      ],
      "execution_count": 0,
      "outputs": [
        {
          "output_type": "stream",
          "text": [
            "-- Epoch 1\n",
            "Norm: 32078.64, NNZs: 9, Bias: 20.000000, T: 59975, Avg. loss: 120957.423089\n",
            "Total training time: 0.00 seconds.\n",
            "-- Epoch 2\n",
            "Norm: 35409.29, NNZs: 9, Bias: 39.000000, T: 119950, Avg. loss: 119099.845422\n",
            "Total training time: 0.01 seconds.\n",
            "-- Epoch 3\n",
            "Norm: 37812.96, NNZs: 9, Bias: 56.000000, T: 179925, Avg. loss: 117834.755736\n",
            "Total training time: 0.01 seconds.\n",
            "-- Epoch 4\n",
            "Norm: 38900.30, NNZs: 9, Bias: 73.000000, T: 239900, Avg. loss: 118177.940188\n",
            "Total training time: 0.01 seconds.\n",
            "-- Epoch 5\n",
            "Norm: 40348.37, NNZs: 9, Bias: 89.000000, T: 299875, Avg. loss: 118419.248699\n",
            "Total training time: 0.02 seconds.\n",
            "-- Epoch 6\n",
            "Norm: 40964.65, NNZs: 9, Bias: 105.000000, T: 359850, Avg. loss: 117945.011203\n",
            "Total training time: 0.02 seconds.\n",
            "-- Epoch 7\n",
            "Norm: 41747.52, NNZs: 9, Bias: 121.000000, T: 419825, Avg. loss: 118323.851771\n",
            "Total training time: 0.02 seconds.\n",
            "-- Epoch 8\n",
            "Norm: 41698.32, NNZs: 9, Bias: 137.000000, T: 479800, Avg. loss: 119009.422087\n",
            "Total training time: 0.02 seconds.\n",
            "Convergence after 8 epochs took 0.03 seconds\n",
            "Train accuracy: 83.051%\n",
            "Valid accuracy: 83.507%\n"
          ],
          "name": "stdout"
        }
      ]
    },
    {
      "cell_type": "markdown",
      "metadata": {
        "id": "-sWGXrw4SY6T",
        "colab_type": "text"
      },
      "source": [
        "# Perceptrón Multicapa\n",
        "\n",
        "Probamos usar un perceptrón multicapa para intentar alcanzar una mayor precisión de la predicción de la lluvia."
      ]
    },
    {
      "cell_type": "code",
      "metadata": {
        "id": "onZfx-Hm0S8S",
        "colab_type": "code",
        "colab": {}
      },
      "source": [
        "#Multicapa\n",
        "def MLP_train_valid(mlp, input_train, target_train, input_valid, target_valid, max_iter, valid_cycles, verbose):\n",
        "   \"\"\"\n",
        "   Train and valid MLP every valid_cycles iterations\n",
        "   \"\"\"\n",
        "   classes  = np.unique(target_train)\n",
        "   loss_valid = []\n",
        "   for i in range(int(max_iter/valid_cycles)):\n",
        "       for j in range(valid_cycles):\n",
        "           out = mlp.partial_fit(input_train, target_train, classes)\n",
        "           # Calculate loss function of valid set\n",
        "       last_lost_valid = log_loss(target_valid, mlp.predict_proba(input_valid))\n",
        "       loss_valid.append(last_lost_valid)\n",
        "       if verbose:\n",
        "           print(\"Iteration %d, train loss = %.8f, valid loss = %.8f\" %\n",
        "                 (mlp.n_iter_, mlp.loss_, last_lost_valid))\n",
        "       if early_stopping and (i > 0) and (last_lost_valid > loss_valid[-2]): # Early stopping\n",
        "           if verbose:\n",
        "               print(\"Early stopping: Validation score did not improve\")\n",
        "           break\n",
        "   if verbose: print(out)\n",
        "   \n",
        "   if verbose:\n",
        "       # Visualizing the Cost Function Trajectory\n",
        "       # (https://sdsawtelle.github.io/blog/output/week4-andrew-ng-machine-learning-with-python.html#Visualizing-the-Cost-Function-Trajectory)\n",
        "       print(\"Visualizing the Cost Function Trajectory\")\n",
        "       plt.plot(range(1, len(mlp.loss_curve_)+1), mlp.loss_curve_, label='Train loss')\n",
        "       plt.plot(range(valid_cycles,len(loss_valid)*valid_cycles+valid_cycles,valid_cycles), loss_valid, '-o', label='Valid loss')\n",
        "       plt.xlabel('number of iterations')\n",
        "       plt.ylabel('loss function')\n",
        "       plt.legend(loc='upper right')\n",
        "       plt.show()"
      ],
      "execution_count": 0,
      "outputs": []
    },
    {
      "cell_type": "markdown",
      "metadata": {
        "id": "Q4Nk7eauTFYF",
        "colab_type": "text"
      },
      "source": [
        "Realizamos un entrenamiento con un MLP de una capa oculta de 10 neuronas, un ratio de aprendizaje de 0.001, durante un máximo 300 iteraciones, validando cada 5 ciclos."
      ]
    },
    {
      "cell_type": "code",
      "metadata": {
        "id": "Ccm645ka0cm8",
        "colab_type": "code",
        "outputId": "fbe0b7dc-4e44-4189-d095-1ed193f7b913",
        "colab": {
          "base_uri": "https://localhost:8080/",
          "height": 716
        }
      },
      "source": [
        "max_iter = 300\n",
        "n_hidden = 10\n",
        "learning_rate_init = 0.001\n",
        "valid_cycles = 5\n",
        "early_stopping = True\n",
        "mlp = MLPClassifier(hidden_layer_sizes=(n_hidden,), learning_rate_init=learning_rate_init, shuffle=False, random_state=0, verbose=False)\n",
        "MLP_train_valid(mlp, input_train, target_train, input_valid, target_valid, max_iter, valid_cycles, True)"
      ],
      "execution_count": 0,
      "outputs": [
        {
          "output_type": "stream",
          "text": [
            "Iteration 5, train loss = 0.37945327, valid loss = 0.37121617\n",
            "Iteration 10, train loss = 0.37502861, valid loss = 0.36607718\n",
            "Iteration 15, train loss = 0.37447348, valid loss = 0.36508281\n",
            "Iteration 20, train loss = 0.37412086, valid loss = 0.36456711\n",
            "Iteration 25, train loss = 0.37384847, valid loss = 0.36420887\n",
            "Iteration 30, train loss = 0.37363064, valid loss = 0.36393453\n",
            "Iteration 35, train loss = 0.37345402, valid loss = 0.36371794\n",
            "Iteration 40, train loss = 0.37330965, valid loss = 0.36354563\n",
            "Iteration 45, train loss = 0.37319086, valid loss = 0.36340896\n",
            "Iteration 50, train loss = 0.37309252, valid loss = 0.36330169\n",
            "Iteration 55, train loss = 0.37301059, valid loss = 0.36321911\n",
            "Iteration 60, train loss = 0.37294187, valid loss = 0.36315759\n",
            "Iteration 65, train loss = 0.37288380, valid loss = 0.36311427\n",
            "Iteration 70, train loss = 0.37283434, valid loss = 0.36308696\n",
            "Iteration 75, train loss = 0.37279187, valid loss = 0.36307399\n",
            "Iteration 80, train loss = 0.37275508, valid loss = 0.36307410\n",
            "Early stopping: Validation score did not improve\n",
            "MLPClassifier(activation='relu', alpha=0.0001, batch_size='auto', beta_1=0.9,\n",
            "              beta_2=0.999, early_stopping=False, epsilon=1e-08,\n",
            "              hidden_layer_sizes=(10,), learning_rate='constant',\n",
            "              learning_rate_init=0.001, max_fun=15000, max_iter=200,\n",
            "              momentum=0.9, n_iter_no_change=10, nesterovs_momentum=True,\n",
            "              power_t=0.5, random_state=0, shuffle=False, solver='adam',\n",
            "              tol=0.0001, validation_fraction=0.1, verbose=False,\n",
            "              warm_start=False)\n",
            "Visualizing the Cost Function Trajectory\n"
          ],
          "name": "stdout"
        },
        {
          "output_type": "display_data",
          "data": {
            "image/png": "[encoded data removed]",
            "text/plain": [
              "<Figure size 432x288 with 1 Axes>"
            ]
          },
          "metadata": {
            "tags": []
          }
        }
      ]
    },
    {
      "cell_type": "code",
      "metadata": {
        "id": "XnznWYZS1m7T",
        "colab_type": "code",
        "outputId": "b6f8baec-3408-4b3f-fd80-6c4fdd841014",
        "colab": {
          "base_uri": "https://localhost:8080/",
          "height": 487
        }
      },
      "source": [
        "predict_train = mlp.predict(input_train)\n",
        "predict_valid = mlp.predict(input_valid)\n",
        "print(\"Train accuracy: %.3f%%\" % (accuracy_score(target_train, predict_train) * 100))\n",
        "print(\"Valid accuracy: %.3f%%\" % (accuracy_score(target_valid, predict_valid) * 100))\n",
        "print(\"Train confusion matrix:\")\n",
        "print(confusion_matrix(target_train, predict_train))\n",
        "print(\"Valid confusion matrix:\")\n",
        "print(confusion_matrix(target_valid, predict_valid))\n",
        "print(\"Train classification report:\")\n",
        "print(classification_report(target_train, predict_train))\n",
        "print(\"Valid classification report:\")\n",
        "print(classification_report(target_valid, predict_valid))"
      ],
      "execution_count": 0,
      "outputs": [
        {
          "output_type": "stream",
          "text": [
            "Train accuracy: 84.485%\n",
            "Valid accuracy: 84.851%\n",
            "Train confusion matrix:\n",
            "[[43911  2826]\n",
            " [ 6479  6759]]\n",
            "Valid confusion matrix:\n",
            "[[22101  1425]\n",
            " [ 3118  3344]]\n",
            "Train classification report:\n",
            "              precision    recall  f1-score   support\n",
            "\n",
            "         0.0       0.87      0.94      0.90     46737\n",
            "         1.0       0.71      0.51      0.59     13238\n",
            "\n",
            "    accuracy                           0.84     59975\n",
            "   macro avg       0.79      0.73      0.75     59975\n",
            "weighted avg       0.83      0.84      0.84     59975\n",
            "\n",
            "Valid classification report:\n",
            "              precision    recall  f1-score   support\n",
            "\n",
            "         0.0       0.88      0.94      0.91     23526\n",
            "         1.0       0.70      0.52      0.60      6462\n",
            "\n",
            "    accuracy                           0.85     29988\n",
            "   macro avg       0.79      0.73      0.75     29988\n",
            "weighted avg       0.84      0.85      0.84     29988\n",
            "\n"
          ],
          "name": "stdout"
        }
      ]
    },
    {
      "cell_type": "markdown",
      "metadata": {
        "id": "0lkWjP3CTylG",
        "colab_type": "text"
      },
      "source": [
        "Se observa que la precisión al usar el método de multicapa mejora respecto al perceptrón simple aproximadamente un 1'4%\n",
        "\n",
        "# Optimización ratio aprendizaje\n",
        "\n",
        "Para acelerar la convergencia de los MLP se busca un ratio de aprendizaje más adecuado, probando con distintos valores entre 0.001 y 0.1, utilizando la función de activación por defecto ReLU.\n",
        "Se visualizan las gráficas de la evolución del error a lo largo de los ciclos para los distintos ratios de aprendizajes estudiados."
      ]
    },
    {
      "cell_type": "code",
      "metadata": {
        "id": "NGnnnzR41Erm",
        "colab_type": "code",
        "outputId": "8acabbaa-8786-40ed-f976-ac59194c3052",
        "colab": {
          "base_uri": "https://localhost:8080/",
          "height": 279
        }
      },
      "source": [
        "#Optimización ratio aprendizaje\n",
        "tests_learning_rate_init = [0.001, 0.005, 0.01, 0.05]\n",
        "activation = 'relu'\n",
        "random_state = 0\n",
        "now = datetime.now()\n",
        "loss_curves =  []\n",
        "for lr in tests_learning_rate_init:\n",
        "   mlp = MLPClassifier(hidden_layer_sizes=(n_hidden,), learning_rate_init=lr, shuffle=False, random_state=random_state, verbose=False, activation=activation)\n",
        "   MLP_train_valid(mlp, input_train, target_train, input_valid, target_valid, max_iter, valid_cycles, False)\n",
        "   loss_curves.append(mlp.loss_curve_)\n",
        "for (lr, loss_curve) in zip(tests_learning_rate_init, loss_curves):\n",
        "   plt.plot(range(1, len(loss_curve)+1), loss_curve, label='larning rate = ' + str(lr))\n",
        "plt.xlabel('number of iterations')\n",
        "plt.ylabel('loss function')\n",
        "plt.legend(loc='upper right')\n",
        "plt.show()"
      ],
      "execution_count": 0,
      "outputs": [
        {
          "output_type": "display_data",
          "data": {
            "image/png": "[encoded data removed]",
            "text/plain": [
              "<Figure size 432x288 with 1 Axes>"
            ]
          },
          "metadata": {
            "tags": []
          }
        }
      ]
    },
    {
      "cell_type": "markdown",
      "metadata": {
        "id": "I50bVS2iUqAQ",
        "colab_type": "text"
      },
      "source": [
        "Para nuestro conjunto de datos vemos que el mejor ratio de aprendizaje es 0.001\n",
        "\n",
        "# Optimización arquitectura\n",
        "\n",
        "Para tratar de mejorar los resultados de los MLP se busca el número de neuronas ocultas más adecuado, probando con distintos valores entre 10 y 190, repitiendo para cada configuración 10 veces y quedándose con aquella de mayor precisión en el conjunto de validación"
      ]
    },
    {
      "cell_type": "code",
      "metadata": {
        "id": "AnBHauvHEDZL",
        "colab_type": "code",
        "outputId": "9c039f21-5e30-4491-d3b7-6495b6872ba0",
        "colab": {
          "base_uri": "https://localhost:8080/",
          "height": 1000
        }
      },
      "source": [
        "from datetime import datetime\n",
        "\n",
        "tests_n_hidden = [10, 30, 50, 70, 90, 110, 130, 150]\n",
        "n_reps = 10\n",
        "activation = 'relu'\n",
        "# activation = 'logistic'\n",
        "learning_rate_init = 0.001\n",
        "now = datetime.now()\n",
        "best_mlp = []\n",
        "best_acc = 0.0\n",
        "accs_train = []\n",
        "accs_valid = []\n",
        "for n_hidden in tests_n_hidden:\n",
        "   max_acc_train = max_acc_valid = 0.0\n",
        "   for random_state in range(n_reps):\n",
        "       mlp = MLPClassifier(hidden_layer_sizes=(n_hidden,), learning_rate_init=learning_rate_init, shuffle=False, random_state=random_state, verbose=False, activation=activation)\n",
        "       MLP_train_valid(mlp, input_train, target_train, input_valid, target_valid, max_iter, valid_cycles, False)\n",
        "       \n",
        "       acc_train = accuracy_score(target_train, mlp.predict(input_train))\n",
        "       acc_valid = accuracy_score(target_valid,mlp.predict(input_valid))\n",
        "       print(\"Seed = %d, train acc = %.8f, valid acc = %.8f, iterations = %d\" % (random_state, acc_train, acc_valid, len(mlp.loss_curve_)))\n",
        "       if (max_acc_valid < acc_valid):\n",
        "           max_acc_valid = acc_valid\n",
        "           max_acc_train = acc_train\n",
        "           if (acc_valid > best_acc):\n",
        "               best_acc = acc_valid\n",
        "               best_mlp = mlp\n",
        "   accs_train.append(max_acc_train)\n",
        "   accs_valid.append(max_acc_valid)\n",
        "   print(\"Number hidden units = %i, train acc = %.8f, max valid acc = %.8f\" % (n_hidden, max_acc_train, max_acc_valid))\n",
        "print(\"Number of seconds for training: %d\" % (datetime.now() - now).total_seconds())\n",
        "print(\"Best MLP valid accuracy: %.8f%%\" % (best_acc * 100))\n",
        "print(\"Best MLP: \", best_mlp)"
      ],
      "execution_count": 0,
      "outputs": [
        {
          "output_type": "stream",
          "text": [
            "Seed = 0, train acc = 0.84485202, valid acc = 0.84850607, iterations = 80\n",
            "Seed = 1, train acc = 0.84623593, valid acc = 0.84983994, iterations = 20\n",
            "Seed = 2, train acc = 0.84176740, valid acc = 0.84390423, iterations = 15\n",
            "Seed = 3, train acc = 0.83618174, valid acc = 0.83756836, iterations = 10\n",
            "Seed = 4, train acc = 0.84546895, valid acc = 0.85050687, iterations = 50\n",
            "Seed = 5, train acc = 0.83866611, valid acc = 0.84403762, iterations = 255\n",
            "Seed = 6, train acc = 0.84058358, valid acc = 0.84630519, iterations = 300\n",
            "Seed = 7, train acc = 0.84260108, valid acc = 0.84737228, iterations = 300\n",
            "Seed = 8, train acc = 0.83884952, valid acc = 0.84123649, iterations = 15\n",
            "Seed = 9, train acc = 0.84168404, valid acc = 0.84403762, iterations = 10\n",
            "Number hidden units = 10, train acc = 0.84546895, max valid acc = 0.85050687\n",
            "Seed = 0, train acc = 0.84286786, valid acc = 0.84887288, iterations = 10\n",
            "Seed = 1, train acc = 0.82837849, valid acc = 0.83259971, iterations = 10\n",
            "Seed = 2, train acc = 0.83047937, valid acc = 0.83580099, iterations = 10\n",
            "Seed = 3, train acc = 0.83943310, valid acc = 0.84460451, iterations = 10\n",
            "Seed = 4, train acc = 0.83491455, valid acc = 0.83986928, iterations = 10\n",
            "Seed = 5, train acc = 0.83531471, valid acc = 0.84066960, iterations = 20\n",
            "Seed = 6, train acc = 0.83486453, valid acc = 0.83990263, iterations = 10\n",
            "Seed = 7, train acc = 0.83781576, valid acc = 0.84323729, iterations = 45\n",
            "Seed = 8, train acc = 0.84563568, valid acc = 0.84953982, iterations = 20\n",
            "Seed = 9, train acc = 0.84278449, valid acc = 0.84800587, iterations = 190\n",
            "Number hidden units = 30, train acc = 0.84563568, max valid acc = 0.84953982\n",
            "Seed = 0, train acc = 0.84163401, valid acc = 0.84707216, iterations = 40\n",
            "Seed = 1, train acc = 0.83964985, valid acc = 0.84457116, iterations = 70\n",
            "Seed = 2, train acc = 0.83716549, valid acc = 0.84267040, iterations = 10\n",
            "Seed = 3, train acc = 0.81035431, valid acc = 0.81632653, iterations = 15\n",
            "Seed = 4, train acc = 0.83219675, valid acc = 0.83640123, iterations = 30\n",
            "Seed = 5, train acc = 0.82686119, valid acc = 0.83136588, iterations = 50\n",
            "Seed = 6, train acc = 0.82541059, valid acc = 0.83006536, iterations = 110\n",
            "Seed = 7, train acc = 0.82297624, valid acc = 0.82786448, iterations = 10\n",
            "Seed = 8, train acc = 0.83596499, valid acc = 0.84056956, iterations = 20\n",
            "Seed = 9, train acc = 0.82476032, valid acc = 0.82909831, iterations = 10\n",
            "Number hidden units = 50, train acc = 0.84163401, max valid acc = 0.84707216\n",
            "Seed = 0, train acc = 0.82781159, valid acc = 0.83273309, iterations = 20\n",
            "Seed = 1, train acc = 0.82862860, valid acc = 0.83353341, iterations = 10\n",
            "Seed = 2, train acc = 0.84365152, valid acc = 0.84847272, iterations = 15\n",
            "Seed = 3, train acc = 0.82839516, valid acc = 0.83283313, iterations = 50\n",
            "Seed = 4, train acc = 0.83306378, valid acc = 0.83793517, iterations = 15\n",
            "Seed = 5, train acc = 0.84555231, valid acc = 0.85167400, iterations = 90\n",
            "Seed = 6, train acc = 0.82529387, valid acc = 0.82963185, iterations = 10\n",
            "Seed = 7, train acc = 0.83216340, valid acc = 0.83673469, iterations = 10\n",
            "Seed = 8, train acc = 0.82602751, valid acc = 0.83039883, iterations = 10\n",
            "Seed = 9, train acc = 0.82287620, valid acc = 0.82756436, iterations = 10\n",
            "Number hidden units = 70, train acc = 0.84555231, max valid acc = 0.85167400\n",
            "Seed = 0, train acc = 0.84428512, valid acc = 0.84927304, iterations = 20\n",
            "Seed = 1, train acc = 0.83069612, valid acc = 0.83483393, iterations = 10\n",
            "Seed = 2, train acc = 0.84080033, valid acc = 0.84523810, iterations = 155\n",
            "Seed = 3, train acc = 0.82561067, valid acc = 0.82969855, iterations = 15\n",
            "Seed = 4, train acc = 0.82561067, valid acc = 0.82999867, iterations = 15\n",
            "Seed = 5, train acc = 0.81172155, valid acc = 0.81732693, iterations = 10\n",
            "Seed = 6, train acc = 0.82504377, valid acc = 0.82983193, iterations = 10\n",
            "Seed = 7, train acc = 0.83206336, valid acc = 0.83663465, iterations = 35\n",
            "Seed = 8, train acc = 0.84391830, valid acc = 0.84840603, iterations = 15\n",
            "Seed = 9, train acc = 0.82841184, valid acc = 0.83279979, iterations = 10\n",
            "Number hidden units = 90, train acc = 0.84428512, max valid acc = 0.84927304\n",
            "Seed = 0, train acc = 0.82847853, valid acc = 0.83299987, iterations = 25\n",
            "Seed = 1, train acc = 0.84418508, valid acc = 0.84797252, iterations = 15\n",
            "Seed = 2, train acc = 0.83744894, valid acc = 0.84240363, iterations = 10\n",
            "Seed = 3, train acc = 0.83279700, valid acc = 0.83816860, iterations = 25\n",
            "Seed = 4, train acc = 0.84256774, valid acc = 0.84707216, iterations = 20\n",
            "Seed = 5, train acc = 0.82247603, valid acc = 0.82689743, iterations = 10\n",
            "Seed = 6, train acc = 0.83684869, valid acc = 0.84213685, iterations = 10\n",
            "Seed = 7, train acc = 0.82654439, valid acc = 0.83066560, iterations = 10\n",
            "Seed = 8, train acc = 0.82349312, valid acc = 0.82796452, iterations = 15\n",
            "Seed = 9, train acc = 0.81855773, valid acc = 0.82302921, iterations = 10\n",
            "Number hidden units = 110, train acc = 0.84418508, max valid acc = 0.84797252\n",
            "Seed = 0, train acc = 0.83658191, valid acc = 0.84156996, iterations = 10\n",
            "Seed = 1, train acc = 0.83883285, valid acc = 0.84400427, iterations = 10\n",
            "Seed = 2, train acc = 0.82874531, valid acc = 0.83299987, iterations = 10\n",
            "Seed = 3, train acc = 0.84518549, valid acc = 0.85047352, iterations = 15\n",
            "Seed = 4, train acc = 0.84383493, valid acc = 0.84943978, iterations = 15\n",
            "Seed = 5, train acc = 0.82864527, valid acc = 0.83263305, iterations = 25\n",
            "Seed = 6, train acc = 0.84133389, valid acc = 0.84543818, iterations = 25\n",
            "Seed = 7, train acc = 0.84531888, valid acc = 0.84950647, iterations = 20\n",
            "Seed = 8, train acc = 0.84586911, valid acc = 0.85087368, iterations = 15\n",
            "Seed = 9, train acc = 0.83616507, valid acc = 0.83993597, iterations = 40\n",
            "Number hidden units = 130, train acc = 0.84586911, max valid acc = 0.85087368\n",
            "Seed = 0, train acc = 0.84146728, valid acc = 0.84673870, iterations = 15\n",
            "Seed = 1, train acc = 0.83434764, valid acc = 0.83933573, iterations = 20\n",
            "Seed = 2, train acc = 0.84306794, valid acc = 0.84780579, iterations = 10\n",
            "Seed = 3, train acc = 0.84565236, valid acc = 0.85147392, iterations = 25\n",
            "Seed = 4, train acc = 0.84593581, valid acc = 0.85050687, iterations = 15\n",
            "Seed = 5, train acc = 0.82856190, valid acc = 0.83283313, iterations = 25\n",
            "Seed = 6, train acc = 0.84298458, valid acc = 0.84773910, iterations = 15\n",
            "Seed = 7, train acc = 0.83663193, valid acc = 0.84217020, iterations = 20\n",
            "Seed = 8, train acc = 0.84431847, valid acc = 0.84917300, iterations = 10\n",
            "Seed = 9, train acc = 0.84658608, valid acc = 0.85107376, iterations = 30\n",
            "Number hidden units = 150, train acc = 0.84565236, max valid acc = 0.85147392\n",
            "Number of seconds for training: 728\n",
            "Best MLP valid accuracy: 85.16740029%\n",
            "Best MLP:  MLPClassifier(activation='relu', alpha=0.0001, batch_size='auto', beta_1=0.9,\n",
            "              beta_2=0.999, early_stopping=False, epsilon=1e-08,\n",
            "              hidden_layer_sizes=(70,), learning_rate='constant',\n",
            "              learning_rate_init=0.001, max_fun=15000, max_iter=200,\n",
            "              momentum=0.9, n_iter_no_change=10, nesterovs_momentum=True,\n",
            "              power_t=0.5, random_state=5, shuffle=False, solver='adam',\n",
            "              tol=0.0001, validation_fraction=0.1, verbose=False,\n",
            "              warm_start=False)\n"
          ],
          "name": "stdout"
        }
      ]
    },
    {
      "cell_type": "markdown",
      "metadata": {
        "id": "fpRn_IChVxXp",
        "colab_type": "text"
      },
      "source": [
        "Observamos que el mejor mlp consta de 70 neuronas en la capa oculta.\n",
        "Se visualizan los resultados de errores obtenidos con las distintas arquitecturas estudiadas."
      ]
    },
    {
      "cell_type": "code",
      "metadata": {
        "id": "id1eby-pLxtb",
        "colab_type": "code",
        "outputId": "4052625b-d242-4f84-a37c-86cce800d75e",
        "colab": {
          "base_uri": "https://localhost:8080/",
          "height": 279
        }
      },
      "source": [
        "width = 4\n",
        "plt.bar(np.array(tests_n_hidden) - width, 100 *(1- np.array(accs_train)), color='g', width=width, label='Train error')\n",
        "plt.bar(np.array(tests_n_hidden), 100 *(1- np.array(accs_valid)), width=width, label='Min valid error')\n",
        "plt.xlabel('number of hidden units')\n",
        "plt.ylabel('error (%)')\n",
        "plt.xticks(np.array(tests_n_hidden), tests_n_hidden)\n",
        "plt.legend(loc='upper right')\n",
        "plt.show()"
      ],
      "execution_count": 0,
      "outputs": [
        {
          "output_type": "display_data",
          "data": {
            "image/png": "[encoded data removed]",
            "text/plain": [
              "<Figure size 432x288 with 1 Axes>"
            ]
          },
          "metadata": {
            "tags": []
          }
        }
      ]
    },
    {
      "cell_type": "markdown",
      "metadata": {
        "id": "AYKDBjBuVtW7",
        "colab_type": "text"
      },
      "source": [
        "#Resultados finales mejor MLP\n",
        "\n",
        "Se calculan los resultados finales para el mejor MLP obtenido, incluido el conjunto de test"
      ]
    },
    {
      "cell_type": "code",
      "metadata": {
        "id": "SJbqLWTE2ZpB",
        "colab_type": "code",
        "outputId": "b5a1c1d9-d6be-4295-c8a3-5447619315b9",
        "colab": {
          "base_uri": "https://localhost:8080/",
          "height": 722
        }
      },
      "source": [
        "predict_train = best_mlp.predict(input_train)\n",
        "predict_valid = best_mlp.predict(input_valid)\n",
        "predict_test = best_mlp.predict(input_test)\n",
        "print(\"Train accuracy: %.3f%%\" % (accuracy_score(target_train, predict_train) * 100))\n",
        "print(\"Valid accuracy: %.3f%%\" % (accuracy_score(target_valid, predict_valid) * 100))\n",
        "print(\"Test accuracy: %.3f%%\" % (accuracy_score(target_test, predict_test) * 100))\n",
        "print(\"Train confusion matrix:\")\n",
        "print(confusion_matrix(target_train, predict_train))\n",
        "print(\"Valid confusion matrix:\")\n",
        "print(confusion_matrix(target_valid, predict_valid))\n",
        "print(\"Test confusion matrix:\")\n",
        "print(confusion_matrix(target_test, predict_test))\n",
        "print(\"Train classification report:\")\n",
        "print(classification_report(target_train, predict_train))\n",
        "print(\"Valid classification report:\")\n",
        "print(classification_report(target_valid, predict_valid))\n",
        "print(\"Test classification report:\")\n",
        "print(classification_report(target_test, predict_test))"
      ],
      "execution_count": 0,
      "outputs": [
        {
          "output_type": "stream",
          "text": [
            "Train accuracy: 84.555%\n",
            "Valid accuracy: 85.167%\n",
            "Test accuracy: 84.687%\n",
            "Train confusion matrix:\n",
            "[[45264  1473]\n",
            " [ 7790  5448]]\n",
            "Valid confusion matrix:\n",
            "[[22821   705]\n",
            " [ 3743  2719]]\n",
            "Test confusion matrix:\n",
            "[[22689   723]\n",
            " [ 3869  2706]]\n",
            "Train classification report:\n",
            "              precision    recall  f1-score   support\n",
            "\n",
            "         0.0       0.85      0.97      0.91     46737\n",
            "         1.0       0.79      0.41      0.54     13238\n",
            "\n",
            "    accuracy                           0.85     59975\n",
            "   macro avg       0.82      0.69      0.72     59975\n",
            "weighted avg       0.84      0.85      0.83     59975\n",
            "\n",
            "Valid classification report:\n",
            "              precision    recall  f1-score   support\n",
            "\n",
            "         0.0       0.86      0.97      0.91     23526\n",
            "         1.0       0.79      0.42      0.55      6462\n",
            "\n",
            "    accuracy                           0.85     29988\n",
            "   macro avg       0.83      0.70      0.73     29988\n",
            "weighted avg       0.85      0.85      0.83     29988\n",
            "\n",
            "Test classification report:\n",
            "              precision    recall  f1-score   support\n",
            "\n",
            "         0.0       0.85      0.97      0.91     23412\n",
            "         1.0       0.79      0.41      0.54      6575\n",
            "\n",
            "    accuracy                           0.85     29987\n",
            "   macro avg       0.82      0.69      0.72     29987\n",
            "weighted avg       0.84      0.85      0.83     29987\n",
            "\n"
          ],
          "name": "stdout"
        }
      ]
    },
    {
      "cell_type": "markdown",
      "metadata": {
        "id": "QHAa631RWq0j",
        "colab_type": "text"
      },
      "source": [
        "Tanto el conjunto de entrenamiento como el de validación ha mejorado aproximadamente un 1.5%"
      ]
    },
    {
      "cell_type": "code",
      "metadata": {
        "id": "GngmxfIH2nj9",
        "colab_type": "code",
        "outputId": "206e888a-3aa0-410b-87ba-c4c9eca9e320",
        "colab": {
          "base_uri": "https://localhost:8080/",
          "height": 279
        }
      },
      "source": [
        "mlp_probs = mlp.predict_proba(input_test)\n",
        "classes  = np.unique(target_train)\n",
        "mlp_auc = []\n",
        "mlp_fpr = []\n",
        "mlp_tpr = []\n",
        "for cla in classes:\n",
        "  cla = int(cla)\n",
        "  mlp_auc.append(roc_auc_score(target_test==cla, mlp_probs[:,cla]))\n",
        "  fpr, tpr, _ = roc_curve(target_test==cla, mlp_probs[:,cla])\n",
        "  mlp_fpr.append(fpr)\n",
        "  mlp_tpr.append(tpr)\n",
        "\n",
        "for cla in classes:\n",
        "  cla = int(cla)\n",
        "  plt.plot(mlp_fpr[cla], mlp_tpr[cla], marker='.', label='Class %d (AUC: %.5f)' % (cla, mlp_auc[cla]))\n",
        "\n",
        "plt.plot([0, 1], [0, 1], color='navy', linestyle='--')\n",
        "plt.xlabel('False Positive Rate')\n",
        "plt.ylabel('True Positive Rate')\n",
        "plt.legend()\n",
        "plt.show()"
      ],
      "execution_count": 0,
      "outputs": [
        {
          "output_type": "display_data",
          "data": {
            "image/png": "[encoded data removed]",
            "text/plain": [
              "<Figure size 432x288 with 1 Axes>"
            ]
          },
          "metadata": {
            "tags": []
          }
        }
      ]
    },
    {
      "cell_type": "markdown",
      "metadata": {
        "id": "Rd-9Sgn0XLSE",
        "colab_type": "text"
      },
      "source": [
        "# Conclusión\n",
        "\n",
        "Observamos que la precisión del perceptor simple es similar aunque inferior al perceptor multicapa. Esto se debe a la gran cantidad de datos que posee nuestro fichero .csv,es decir, nuestra base de datos."
      ]
    }
  ]
}